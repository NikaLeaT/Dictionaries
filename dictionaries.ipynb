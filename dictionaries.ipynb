{
  "cells": [
    {
      "cell_type": "markdown",
      "metadata": {
        "id": "OW6jpaLJHbEM"
      },
      "source": [
        "# Dictionaries\n",
        "\n",
        "(Credit goes to Micah Saxton for the initial code used in this lab.)\n",
        "\n",
        "Although maybe it's been a while since you've picked up a paper dictionary, you probably remember how to use one: you look up a definition by finding the word — the lemma — in its particular place in the alphabetized list of all lemmata. You might have to perform additional lookups along the way, but essentially each action is determining a **key** and retrieving its corresponding **value**."
      ]
    },
    {
      "cell_type": "markdown",
      "metadata": {
        "id": "o4VedOEwHbEN"
      },
      "source": [
        "## Creating a dictionary"
      ]
    },
    {
      "cell_type": "code",
      "execution_count": 1,
      "metadata": {
        "id": "ew6AXdsOHbEN"
      },
      "outputs": [],
      "source": [
        "# simple example\n",
        "Butler = {'genre': 'science fiction', 'award': 'hugo'}"
      ]
    },
    {
      "cell_type": "markdown",
      "metadata": {
        "id": "zYX1a8o0HbEO"
      },
      "source": [
        "## Accessing information within a dictionary"
      ]
    },
    {
      "cell_type": "code",
      "execution_count": 2,
      "metadata": {
        "id": "3K7zj6UPHbEO"
      },
      "outputs": [
        {
          "name": "stdout",
          "output_type": "stream",
          "text": [
            "science fiction\n"
          ]
        }
      ],
      "source": [
        "print(Butler['genre'])"
      ]
    },
    {
      "cell_type": "code",
      "execution_count": 5,
      "metadata": {
        "id": "urniKs8XHbEP"
      },
      "outputs": [
        {
          "name": "stdout",
          "output_type": "stream",
          "text": [
            "hugo\n"
          ]
        }
      ],
      "source": [
        "print(Butler['award'])"
      ]
    },
    {
      "cell_type": "markdown",
      "metadata": {
        "id": "isovs2eJHbEP"
      },
      "source": [
        "## Adding information to a dictionary"
      ]
    },
    {
      "cell_type": "code",
      "execution_count": 6,
      "metadata": {
        "id": "5IPUvZEwHbEQ"
      },
      "outputs": [],
      "source": [
        "Butler['birth_year'] = 1947"
      ]
    },
    {
      "cell_type": "code",
      "execution_count": 10,
      "metadata": {
        "id": "PbRgxZUTHbEQ"
      },
      "outputs": [
        {
          "data": {
            "text/plain": [
              "{'genre': 'science fiction',\n",
              " 'award': 'hugo',\n",
              " 'birth_year': 1947,\n",
              " 1947: 'birth year'}"
            ]
          },
          "execution_count": 10,
          "metadata": {},
          "output_type": "execute_result"
        }
      ],
      "source": [
        "Butler\n",
        "\n",
        "Butler[1947] = 'birth year'\n",
        "Butler"
      ]
    },
    {
      "cell_type": "code",
      "execution_count": 11,
      "metadata": {},
      "outputs": [
        {
          "name": "stdout",
          "output_type": "stream",
          "text": [
            "<class 'str'> genre science fiction\n",
            "<class 'str'> award hugo\n",
            "<class 'str'> birth_year 1947\n",
            "<class 'int'> 1947 birth year\n"
          ]
        }
      ],
      "source": [
        "for k, v in Butler.items():\n",
        "    print(type(k), k, v)"
      ]
    },
    {
      "cell_type": "code",
      "execution_count": 12,
      "metadata": {
        "id": "7jZ3jA6GHbER"
      },
      "outputs": [],
      "source": [
        "Robinson = {}"
      ]
    },
    {
      "cell_type": "code",
      "execution_count": 13,
      "metadata": {
        "id": "42xgGcwFHbER"
      },
      "outputs": [],
      "source": [
        "Robinson['genre'] = 'science fiction'\n",
        "Robinson['award'] = 'hugo'\n",
        "Robinson['birth_year'] = 1952"
      ]
    },
    {
      "cell_type": "code",
      "execution_count": 14,
      "metadata": {
        "id": "h1vzb-wgHbER"
      },
      "outputs": [
        {
          "data": {
            "text/plain": [
              "{'genre': 'science fiction', 'award': 'hugo', 'birth_year': 1952}"
            ]
          },
          "execution_count": 14,
          "metadata": {},
          "output_type": "execute_result"
        }
      ],
      "source": [
        "Robinson"
      ]
    },
    {
      "cell_type": "markdown",
      "metadata": {
        "id": "9b_m5vMVHbER"
      },
      "source": [
        "## iterating through a dictionary"
      ]
    },
    {
      "cell_type": "code",
      "execution_count": 16,
      "metadata": {
        "id": "6V_d_UfIHbER"
      },
      "outputs": [
        {
          "name": "stdout",
          "output_type": "stream",
          "text": [
            "Key: genre\n",
            "Value: science fiction\n",
            "Key: award\n",
            "Value: hugo\n",
            "Key: birth_year\n",
            "Value: 1952\n",
            "fizz\n",
            "buzz\n"
          ]
        }
      ],
      "source": [
        "for k, v in Robinson.items():\n",
        "    print(f\"Key: {k}\")\n",
        "    print(f\"Value: {v}\")\n",
        "\n",
        "\n",
        "#brief review of a tuple\n",
        "foo, bar = (\"fizz\", \"buzz\")\n",
        "\n",
        "print(foo)\n",
        "print(bar)"
      ]
    },
    {
      "cell_type": "code",
      "execution_count": 17,
      "metadata": {
        "id": "FZphU5oGHbER"
      },
      "outputs": [
        {
          "name": "stdout",
          "output_type": "stream",
          "text": [
            "genre\n",
            "award\n",
            "birth_year\n"
          ]
        }
      ],
      "source": [
        "for key in Robinson.keys():\n",
        "    print(key)"
      ]
    },
    {
      "cell_type": "code",
      "execution_count": 18,
      "metadata": {
        "id": "vLGlS-gtHbES"
      },
      "outputs": [
        {
          "name": "stdout",
          "output_type": "stream",
          "text": [
            "science fiction\n",
            "hugo\n",
            "1952\n"
          ]
        }
      ],
      "source": [
        "for value in Robinson.values():\n",
        "    print(value)"
      ]
    },
    {
      "cell_type": "markdown",
      "metadata": {
        "id": "nNKdemJ6HbES"
      },
      "source": [
        "## Lists of dictionaries"
      ]
    },
    {
      "cell_type": "code",
      "execution_count": 19,
      "metadata": {
        "id": "o-BxDiM3HbES"
      },
      "outputs": [],
      "source": [
        "sf_authors =[Butler, Robinson]"
      ]
    },
    {
      "cell_type": "code",
      "execution_count": 21,
      "metadata": {
        "id": "Pacq3IfOHbES"
      },
      "outputs": [],
      "source": [
        "sf_authors\n",
        "\n",
        "sub_Butler = sf_authors[0]\n"
      ]
    },
    {
      "cell_type": "code",
      "execution_count": null,
      "metadata": {
        "id": "3P49uPh2HbES"
      },
      "outputs": [],
      "source": [
        "sf_authors[0]"
      ]
    },
    {
      "cell_type": "code",
      "execution_count": 20,
      "metadata": {
        "id": "TxIuFP5NHbES"
      },
      "outputs": [
        {
          "name": "stdout",
          "output_type": "stream",
          "text": [
            "1947\n"
          ]
        }
      ],
      "source": [
        "Butler_born = sf_authors[0]['birth_year']\n",
        "print(Butler_born)"
      ]
    },
    {
      "cell_type": "markdown",
      "metadata": {},
      "source": [
        "## Nested dictionaries\n",
        "\n",
        "Remember how we said at the beginning of the lab how you might have to perform additional lookups as you're working through the dictionary? We can simulate these kinds of lookups via nested dictionaries: just like you can have a list that contains other lists (and so on), you can have a dictionary that contains other dictionaries."
      ]
    },
    {
      "cell_type": "code",
      "execution_count": 24,
      "metadata": {},
      "outputs": [],
      "source": [
        "my_dictionary = {\n",
        "    'a': {\n",
        "        'aa': [],\n",
        "        'ab': [],\n",
        "        'ac': []\n",
        "    },\n",
        "    'b': {\n",
        "        'ba': [],\n",
        "        'bd': [],\n",
        "        'be': []\n",
        "    },\n",
        "    'c': {\n",
        "        'ca': [],\n",
        "        'ce': [],\n",
        "        'ch': []\n",
        "    }\n",
        "}"
      ]
    },
    {
      "cell_type": "markdown",
      "metadata": {},
      "source": [
        "To access the list at `a.ab`, we write `my_dictionary['a']['aa']`. Let's break that down:"
      ]
    },
    {
      "cell_type": "code",
      "execution_count": 25,
      "metadata": {},
      "outputs": [
        {
          "data": {
            "text/plain": [
              "{'aa': [], 'ab': [], 'ac': []}"
            ]
          },
          "execution_count": 25,
          "metadata": {},
          "output_type": "execute_result"
        }
      ],
      "source": [
        "intermediate_dictionary = my_dictionary['a']\n",
        "\n",
        "intermediate_dictionary"
      ]
    },
    {
      "cell_type": "code",
      "execution_count": 26,
      "metadata": {},
      "outputs": [
        {
          "data": {
            "text/plain": [
              "[]"
            ]
          },
          "execution_count": 26,
          "metadata": {},
          "output_type": "execute_result"
        }
      ],
      "source": [
        "intermediate_dictionary['ab']"
      ]
    },
    {
      "cell_type": "code",
      "execution_count": 27,
      "metadata": {},
      "outputs": [
        {
          "data": {
            "text/plain": [
              "[]"
            ]
          },
          "execution_count": 27,
          "metadata": {},
          "output_type": "execute_result"
        }
      ],
      "source": [
        "my_dictionary['a']['ab']"
      ]
    },
    {
      "cell_type": "markdown",
      "metadata": {},
      "source": [
        "## Coding Exercises\n",
        "\n",
        "### 1. Declaring strings\n",
        "\n",
        "Take the following passages and assign them to well-named variables:\n",
        "\n",
        "Thus Chryses pray’d:—the favouring power attends,\n",
        "And from Olympus’ lofty tops descends.\n",
        "Bent was his bow, the Grecian hearts to wound;\n",
        "Fierce as he moved, his silver shafts resound.\n",
        "Breathing revenge, a sudden night he spread,\n",
        "And gloomy darkness roll’d about his head.\n",
        "The fleet in view, he twang’d his deadly bow,\n",
        "And hissing fly the feather’d fates below.\n",
        "On mules and dogs the infection first began;\n",
        "And last, the vengeful arrows fix’d in man.\n",
        "For nine long nights, through all the dusky air,\n",
        "The pyres, thick-flaming, shot a dismal glare.\n",
        "But ere the tenth revolving day was run,\n",
        "Inspired by Juno, Thetis’ godlike son\n",
        "Convened to council all the Grecian train;\n",
        "For much the goddess mourn’d her heroes slain. (Pope, _Iliad_, Book 1)\n",
        "\n",
        "\n",
        "“Beloved of Jove, Achilles! would’st thou know\n",
        "Why angry Phœbus bends his fatal bow?\n",
        "First give thy faith, and plight a prince’s word\n",
        "Of sure protection, by thy power and sword:\n",
        "For I must speak what wisdom would conceal,\n",
        "And truths, invidious to the great, reveal,\n",
        "Bold is the task, when subjects, grown too wise,\n",
        "Instruct a monarch where his error lies;\n",
        "For though we deem the short-lived fury past,\n",
        "’Tis sure the mighty will revenge at last.”\n",
        "To whom Pelides:—“From thy inmost soul\n",
        "Speak what thou know’st, and speak without control.\n",
        "E’en by that god I swear who rules the day,\n",
        "To whom thy hands the vows of Greece convey.\n",
        "And whose bless’d oracles thy lips declare;\n",
        "Long as Achilles breathes this vital air,\n",
        "No daring Greek, of all the numerous band,\n",
        "Against his priest shall lift an impious hand;\n",
        "Not e’en the chief by whom our hosts are led,\n",
        "The king of kings, shall touch that sacred head.” (Pope, _Iliad_, Book 1)"
      ]
    },
    {
      "cell_type": "code",
      "execution_count": null,
      "metadata": {},
      "outputs": [
        {
          "name": "stdout",
          "output_type": "stream",
          "text": [
            "Thus Chryses pray’d:—the favouring power attends,\n",
            "And from Olympus’ lofty tops descends.\n",
            "Bent was his bow, the Grecian hearts to wound;\n",
            "Fierce as he moved, his silver shafts resound.\n",
            "Breathing revenge, a sudden night he spread,\n",
            "And gloomy darkness roll’d about his head.\n",
            "The fleet in view, he twang’d his deadly bow,\n",
            "And hissing fly the feather’d fates below.\n",
            "On mules and dogs the infection first began;\n",
            "And last, the vengeful arrows fix’d in man.\n",
            "For nine long nights, through all the dusky air,\n",
            "The pyres, thick-flaming, shot a dismal glare.\n",
            "But ere the tenth revolving day was run,\n",
            "Inspired by Juno, Thetis’ godlike son\n",
            "Convened to council all the Grecian train;\n",
            "For much the goddess mourn’d her heroes slain.\n",
            "Beloved of Jove, Achilles! would’st thou know\n",
            "Why angry Phœbus bends his fatal bow?\n",
            "First give thy faith, and plight a prince’s word\n",
            "Of sure protection, by thy power and sword:\n",
            "For I must speak what wisdom would conceal,\n",
            "And truths, invidious to the great, reveal,\n",
            "Bold is the task, when subjects, grown too wise,\n",
            "Instruct a monarch where his error lies;\n",
            "For though we deem the short-lived fury past,\n",
            "’Tis sure the mighty will revenge at last.”\n",
            "To whom Pelides:—“From thy inmost soul\n",
            "Speak what thou know’st, and speak without control.\n",
            "E’en by that god I swear who rules the day,\n",
            "To whom thy hands the vows of Greece convey.\n",
            "And whose bless’d oracles thy lips declare;\n",
            "Long as Achilles breathes this vital air,\n",
            "No daring Greek, of all the numerous band,\n",
            "Against his priest shall lift an impious hand;\n",
            "Not e’en the chief by whom our hosts are led,\n",
            "The king of kings, shall touch that sacred head.\n"
          ]
        }
      ],
      "source": [
        "# your code here\n",
        "n_chrysesrevenge = \"\"\"Thus Chryses pray’d:—the favouring power attends,\n",
        "And from Olympus’ lofty tops descends.\n",
        "Bent was his bow, the Grecian hearts to wound;\n",
        "Fierce as he moved, his silver shafts resound.\n",
        "Breathing revenge, a sudden night he spread,\n",
        "And gloomy darkness roll’d about his head.\n",
        "The fleet in view, he twang’d his deadly bow,\n",
        "And hissing fly the feather’d fates below.\n",
        "On mules and dogs the infection first began;\n",
        "And last, the vengeful arrows fix’d in man.\n",
        "For nine long nights, through all the dusky air,\n",
        "The pyres, thick-flaming, shot a dismal glare.\n",
        "But ere the tenth revolving day was run,\n",
        "Inspired by Juno, Thetis’ godlike son\n",
        "Convened to council all the Grecian train;\n",
        "For much the goddess mourn’d her heroes slain.\"\"\"\n",
        "\n",
        "print(n_chrysesrevenge)\n",
        "\n",
        "n_bentbow = \"\"\"Beloved of Jove, Achilles! would’st thou know\n",
        "Why angry Phœbus bends his fatal bow?\n",
        "First give thy faith, and plight a prince’s word\n",
        "Of sure protection, by thy power and sword:\n",
        "For I must speak what wisdom would conceal,\n",
        "And truths, invidious to the great, reveal,\n",
        "Bold is the task, when subjects, grown too wise,\n",
        "Instruct a monarch where his error lies;\n",
        "For though we deem the short-lived fury past,\n",
        "’Tis sure the mighty will revenge at last.”\n",
        "To whom Pelides:—“From thy inmost soul\n",
        "Speak what thou know’st, and speak without control.\n",
        "E’en by that god I swear who rules the day,\n",
        "To whom thy hands the vows of Greece convey.\n",
        "And whose bless’d oracles thy lips declare;\n",
        "Long as Achilles breathes this vital air,\n",
        "No daring Greek, of all the numerous band,\n",
        "Against his priest shall lift an impious hand;\n",
        "Not e’en the chief by whom our hosts are led,\n",
        "The king of kings, shall touch that sacred head.\"\"\"\n",
        "\n",
        "print(n_bentbow)\n",
        "\n"
      ]
    },
    {
      "cell_type": "markdown",
      "metadata": {},
      "source": [
        "### 2. Tokenization\n",
        "\n",
        "Using the variables that you have declared, tokenize each text. Be sure to normalize your tokens: do you want to include or exclude punctuation? How do you want to handle uppercase and lowercase? What Python tools might you use to accomplish these tasks quickly?"
      ]
    },
    {
      "cell_type": "code",
      "execution_count": 5,
      "metadata": {},
      "outputs": [
        {
          "data": {
            "text/plain": [
              "[['Beloved', 'of', 'Jove', 'Achilles', 'would’st', 'thou', 'know'],\n",
              " ['Why', 'angry', 'Phœbus', 'bends', 'his', 'fatal', 'bow?'],\n",
              " ['First', 'give', 'thy', 'faith', 'and', 'plight', 'a', 'prince’s', 'word'],\n",
              " ['Of', 'sure', 'protection', 'by', 'thy', 'power', 'and', 'sword:'],\n",
              " ['For', 'I', 'must', 'speak', 'what', 'wisdom', 'would', 'conceal'],\n",
              " ['And', 'truths', 'invidious', 'to', 'the', 'great', 'reveal'],\n",
              " ['Bold', 'is', 'the', 'task', 'when', 'subjects', 'grown', 'too', 'wise'],\n",
              " ['Instruct', 'a', 'monarch', 'where', 'his', 'error', 'lies'],\n",
              " ['For', 'though', 'we', 'deem', 'the', 'short-lived', 'fury', 'past'],\n",
              " ['’Tis', 'sure', 'the', 'mighty', 'will', 'revenge', 'at', 'last'],\n",
              " ['To', 'whom', 'Pelides:—', 'From', 'thy', 'inmost', 'soul'],\n",
              " ['Speak', 'what', 'thou', 'know’st', 'and', 'speak', 'without', 'control'],\n",
              " ['E’en', 'by', 'that', 'god', 'I', 'swear', 'who', 'rules', 'the', 'day'],\n",
              " ['To', 'whom', 'thy', 'hands', 'the', 'vows', 'of', 'Greece', 'convey'],\n",
              " ['And', 'whose', 'bless’d', 'oracles', 'thy', 'lips', 'declare'],\n",
              " ['Long', 'as', 'Achilles', 'breathes', 'this', 'vital', 'air'],\n",
              " ['No', 'daring', 'Greek', 'of', 'all', 'the', 'numerous', 'band'],\n",
              " ['Against', 'his', 'priest', 'shall', 'lift', 'an', 'impious', 'hand'],\n",
              " ['Not', 'e’en', 'the', 'chief', 'by', 'whom', 'our', 'hosts', 'are', 'led'],\n",
              " ['The', 'king', 'of', 'kings', 'shall', 'touch', 'that', 'sacred', 'head']]"
            ]
          },
          "execution_count": 5,
          "metadata": {},
          "output_type": "execute_result"
        }
      ],
      "source": [
        "# tokenizing each text, normalizing tokens, and using Python tools\n",
        "# your code here\n",
        "n_chrysesrevenge = \"\"\"Thus Chryses pray’d:—the favouring power attends,\n",
        "And from Olympus’ lofty tops descends.\n",
        "Bent was his bow, the Grecian hearts to wound;\n",
        "Fierce as he moved, his silver shafts resound.\n",
        "Breathing revenge, a sudden night he spread,\n",
        "And gloomy darkness roll’d about his head.\n",
        "The fleet in view, he twang’d his deadly bow,\n",
        "And hissing fly the feather’d fates below.\n",
        "On mules and dogs the infection first began;\n",
        "And last, the vengeful arrows fix’d in man.\n",
        "For nine long nights, through all the dusky air,\n",
        "The pyres, thick-flaming, shot a dismal glare.\n",
        "But ere the tenth revolving day was run,\n",
        "Inspired by Juno, Thetis’ godlike son\n",
        "Convened to council all the Grecian train;\n",
        "For much the goddess mourn’d her heroes slain.\"\"\"\n",
        "\n",
        "\n",
        "n_bentbow = \"\"\"Beloved of Jove, Achilles! would’st thou know\n",
        "Why angry Phœbus bends his fatal bow?\n",
        "First give thy faith, and plight a prince’s word\n",
        "Of sure protection, by thy power and sword:\n",
        "For I must speak what wisdom would conceal,\n",
        "And truths, invidious to the great, reveal,\n",
        "Bold is the task, when subjects, grown too wise,\n",
        "Instruct a monarch where his error lies;\n",
        "For though we deem the short-lived fury past,\n",
        "’Tis sure the mighty will revenge at last.”\n",
        "To whom Pelides:—“From thy inmost soul\n",
        "Speak what thou know’st, and speak without control.\n",
        "E’en by that god I swear who rules the day,\n",
        "To whom thy hands the vows of Greece convey.\n",
        "And whose bless’d oracles thy lips declare;\n",
        "Long as Achilles breathes this vital air,\n",
        "No daring Greek, of all the numerous band,\n",
        "Against his priest shall lift an impious hand;\n",
        "Not e’en the chief by whom our hosts are led,\n",
        "The king of kings, shall touch that sacred head.\"\"\"\n",
        "\n",
        "\n",
        "import re\n",
        "\n",
        "word_regex = re.compile(r\"[\\s\\.,!;”“]+\")\n",
        "\n",
        "lines = [[w for w in word_regex.split(l) if w != \"\"] for l in n_chrysesrevenge.strip().splitlines()]\n",
        "lines\n",
        "\n",
        "import re\n",
        "\n",
        "word_regex = re.compile(r\"[\\s\\.,!;”“]+\")\n",
        "\n",
        "lines = [[w for w in word_regex.split(l) if w != \"\"] for l in n_bentbow.strip().splitlines()]\n",
        "lines\n",
        "\n"
      ]
    },
    {
      "cell_type": "markdown",
      "metadata": {},
      "source": [
        "### 3. Conditionals\n",
        "\n",
        "Use conditionals and for-loops to remove the following stop words:\n",
        "\n",
        "> Definition: **stop word**: A token that is not included in analysis of the text because of its insignificance for the task at hand."
      ]
    },
    {
      "cell_type": "code",
      "execution_count": 4,
      "metadata": {},
      "outputs": [
        {
          "data": {
            "text/plain": [
              "['Beloved',\n",
              " 'Jove,',\n",
              " 'Achilles!',\n",
              " 'would’st',\n",
              " 'thou',\n",
              " 'know\\nWhy',\n",
              " 'angry',\n",
              " 'Phœbus',\n",
              " 'bends',\n",
              " 'his',\n",
              " 'fatal',\n",
              " 'bow?\\nFirst',\n",
              " 'give',\n",
              " 'thy',\n",
              " 'faith,',\n",
              " 'plight',\n",
              " 'prince’s',\n",
              " 'word\\nOf',\n",
              " 'sure',\n",
              " 'protection,',\n",
              " 'by',\n",
              " 'thy',\n",
              " 'power',\n",
              " 'sword:\\nFor',\n",
              " 'I',\n",
              " 'must',\n",
              " 'speak',\n",
              " 'what',\n",
              " 'wisdom',\n",
              " 'would',\n",
              " 'conceal,\\nAnd',\n",
              " 'truths,',\n",
              " 'invidious',\n",
              " 'to',\n",
              " 'great,',\n",
              " 'reveal,\\nBold',\n",
              " 'is',\n",
              " 'task,',\n",
              " 'when',\n",
              " 'subjects,',\n",
              " 'grown',\n",
              " 'too',\n",
              " 'wise,\\nInstruct',\n",
              " 'monarch',\n",
              " 'where',\n",
              " 'his',\n",
              " 'error',\n",
              " 'lies;\\nFor',\n",
              " 'though',\n",
              " 'we',\n",
              " 'deem',\n",
              " 'short-lived',\n",
              " 'fury',\n",
              " 'past,\\n’Tis',\n",
              " 'sure',\n",
              " 'mighty',\n",
              " 'will',\n",
              " 'revenge',\n",
              " 'last.”\\nTo',\n",
              " 'Pelides:—“From',\n",
              " 'thy',\n",
              " 'inmost',\n",
              " 'soul\\nSpeak',\n",
              " 'what',\n",
              " 'thou',\n",
              " 'know’st,',\n",
              " 'speak',\n",
              " 'control.\\nE’en',\n",
              " 'by',\n",
              " 'that',\n",
              " 'god',\n",
              " 'I',\n",
              " 'swear',\n",
              " 'rules',\n",
              " 'day,\\nTo',\n",
              " 'thy',\n",
              " 'hands',\n",
              " 'vows',\n",
              " 'Greece',\n",
              " 'convey.\\nAnd',\n",
              " 'whose',\n",
              " 'bless’d',\n",
              " 'oracles',\n",
              " 'thy',\n",
              " 'lips',\n",
              " 'declare;\\nLong',\n",
              " 'as',\n",
              " 'Achilles',\n",
              " 'breathes',\n",
              " 'this',\n",
              " 'vital',\n",
              " 'air,\\nNo',\n",
              " 'daring',\n",
              " 'Greek,',\n",
              " 'all',\n",
              " 'numerous',\n",
              " 'band,\\nAgainst',\n",
              " 'his',\n",
              " 'priest',\n",
              " 'shall',\n",
              " 'lift',\n",
              " 'an',\n",
              " 'impious',\n",
              " 'hand;\\nNot',\n",
              " 'e’en',\n",
              " 'chief',\n",
              " 'by',\n",
              " 'our',\n",
              " 'hosts',\n",
              " 'are',\n",
              " 'led,\\nThe',\n",
              " 'king',\n",
              " 'kings,',\n",
              " 'shall',\n",
              " 'touch',\n",
              " 'that',\n",
              " 'sacred',\n",
              " 'head.']"
            ]
          },
          "execution_count": 4,
          "metadata": {},
          "output_type": "execute_result"
        }
      ],
      "source": [
        "stop_words = [\n",
        "    \"the\",\n",
        "    \"a\",\n",
        "    \"at\",\n",
        "    \"and\",\n",
        "    \"but\",\n",
        "    \"without\",\n",
        "    \"who\",\n",
        "    \"whom\",\n",
        "    \"of\",\n",
        "    \"on\"\n",
        "]\n",
        "\n",
        "# Chryses Revenge removal of stop words\n",
        "n_chrysesrevenge = \"\"\"Thus Chryses pray’d:—the favouring power attends,\n",
        "And from Olympus’ lofty tops descends.\n",
        "Bent was his bow, the Grecian hearts to wound;\n",
        "Fierce as he moved, his silver shafts resound.\n",
        "Breathing revenge, a sudden night he spread,\n",
        "And gloomy darkness roll’d about his head.\n",
        "The fleet in view, he twang’d his deadly bow,\n",
        "And hissing fly the feather’d fates below.\n",
        "On mules and dogs the infection first began;\n",
        "And last, the vengeful arrows fix’d in man.\n",
        "For nine long nights, through all the dusky air,\n",
        "The pyres, thick-flaming, shot a dismal glare.\n",
        "But ere the tenth revolving day was run,\n",
        "Inspired by Juno, Thetis’ godlike son\n",
        "Convened to council all the Grecian train;\n",
        "For much the goddess mourn’d her heroes slain.\"\"\"\n",
        "\n",
        "import re\n",
        "\n",
        "word_regex = re.compile(r\"[\\s\\.,!;”“]+\")\n",
        "\n",
        "lines = [[w for w in word_regex.split(l) if w != \"\"] for l in n_chrysesrevenge.strip().splitlines()]\n",
        "lines\n",
        "\n",
        "texts = n_chrysesrevenge\n",
        "stop_words = [\n",
        "    \"the\",\n",
        "    \"a\",\n",
        "    \"at\",\n",
        "    \"and\",\n",
        "    \"but\",\n",
        "    \"without\",\n",
        "    \"who\",\n",
        "    \"whom\",\n",
        "    \"of\",\n",
        "    \"on\"\n",
        "]\n",
        "\n",
        "[word for word in texts.split(' ') if word not in stop_words and word not in [',']]\n",
        "\n",
        "# Bent Bow removal of stop words\n",
        "n_bentbow = \"\"\"Beloved of Jove, Achilles! would’st thou know\n",
        "Why angry Phœbus bends his fatal bow?\n",
        "First give thy faith, and plight a prince’s word\n",
        "Of sure protection, by thy power and sword:\n",
        "For I must speak what wisdom would conceal,\n",
        "And truths, invidious to the great, reveal,\n",
        "Bold is the task, when subjects, grown too wise,\n",
        "Instruct a monarch where his error lies;\n",
        "For though we deem the short-lived fury past,\n",
        "’Tis sure the mighty will revenge at last.”\n",
        "To whom Pelides:—“From thy inmost soul\n",
        "Speak what thou know’st, and speak without control.\n",
        "E’en by that god I swear who rules the day,\n",
        "To whom thy hands the vows of Greece convey.\n",
        "And whose bless’d oracles thy lips declare;\n",
        "Long as Achilles breathes this vital air,\n",
        "No daring Greek, of all the numerous band,\n",
        "Against his priest shall lift an impious hand;\n",
        "Not e’en the chief by whom our hosts are led,\n",
        "The king of kings, shall touch that sacred head.\"\"\"\n",
        "\n",
        "import re\n",
        "\n",
        "word_regex = re.compile(r\"[\\s\\.,!;”“]+\")\n",
        "\n",
        "lines = [[w for w in word_regex.split(l) if w != \"\"] for l in n_bentbow.strip().splitlines()]\n",
        "lines\n",
        "\n",
        "texts = n_bentbow\n",
        "stop_words = [\n",
        "    \"the\",\n",
        "    \"a\",\n",
        "    \"at\",\n",
        "    \"and\",\n",
        "    \"but\",\n",
        "    \"without\",\n",
        "    \"who\",\n",
        "    \"whom\",\n",
        "    \"of\",\n",
        "    \"on\"\n",
        "]\n",
        "\n",
        "[word for word in texts.split(' ') if word not in stop_words and word not in [',']]\n"
      ]
    },
    {
      "cell_type": "markdown",
      "metadata": {},
      "source": [
        "### 4. Dictionary practice\n",
        "\n",
        "Follow the instructions in https://github.com/TuftsIntroDH/AlignedIliad."
      ]
    }
  ],
  "metadata": {
    "colab": {
      "provenance": []
    },
    "kernelspec": {
      "display_name": "Python 3",
      "language": "python",
      "name": "python3"
    },
    "language_info": {
      "codemirror_mode": {
        "name": "ipython",
        "version": 3
      },
      "file_extension": ".py",
      "mimetype": "text/x-python",
      "name": "python",
      "nbconvert_exporter": "python",
      "pygments_lexer": "ipython3",
      "version": "3.12.1"
    }
  },
  "nbformat": 4,
  "nbformat_minor": 0
}
